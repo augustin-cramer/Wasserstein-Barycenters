{
 "cells": [
  {
   "cell_type": "markdown",
   "metadata": {},
   "source": [
    "# Wasserstein barycenters - Demo Notebook"
   ]
  },
  {
   "cell_type": "code",
   "execution_count": null,
   "metadata": {},
   "outputs": [],
   "source": [
    "import numpy as np\n",
    "from plotly.subplots import make_subplots\n",
    "import plotly.graph_objects as go\n",
    "from wasserstein_barycenters.wasserstein_barycenters_3d import convolutional_barycenter_3d\n",
    "from wasserstein_barycenters.utils import point_cloud_to_mesh, plot_mesh"
   ]
  },
  {
   "cell_type": "markdown",
   "metadata": {},
   "source": [
    "## Inital shapes"
   ]
  },
  {
   "cell_type": "markdown",
   "metadata": {},
   "source": [
    "First, let's import some shapes that are represented as point clouds"
   ]
  },
  {
   "cell_type": "code",
   "execution_count": null,
   "metadata": {},
   "outputs": [],
   "source": [
    "shape1 = np.load('data/numpy/duck.npy')\n",
    "shape2 = np.load('data/numpy/torus.npy')\n",
    "initial_shapes = np.concatenate((shape1[np.newaxis, :, :, :], shape2[np.newaxis, :, :, :]), axis=0)"
   ]
  },
  {
   "cell_type": "markdown",
   "metadata": {},
   "source": [
    "Second, let's figure out what is the dimension of the arrays so we can initialise what we call \"space\" that is the discrete support of the indicative functions of the interior of the shapes "
   ]
  },
  {
   "cell_type": "code",
   "execution_count": null,
   "metadata": {},
   "outputs": [],
   "source": [
    "N = shape1.shape[0]\n",
    "t = np.linspace(0, 1, N)\n",
    "space = np.stack(np.meshgrid(t, t, t), axis=-1).reshape(N**3, -1)"
   ]
  },
  {
   "cell_type": "markdown",
   "metadata": {},
   "source": [
    "Now we can plot our inital shapes "
   ]
  },
  {
   "cell_type": "code",
   "execution_count": null,
   "metadata": {},
   "outputs": [],
   "source": [
    "fig = make_subplots(rows=1, cols=2, specs=[[{\"type\": \"scatter3d\"}, {\"type\": \"scatter3d\"}]])\n",
    "for i in range(2):\n",
    "    shape = initial_shapes[i].astype(bool)\n",
    "    vertices, faces = point_cloud_to_mesh(shape, space)\n",
    "    fig.add_trace(\n",
    "        go.Mesh3d(\n",
    "                x=vertices[:, 0],\n",
    "                y=vertices[:, 1],\n",
    "                z=vertices[:, 2],\n",
    "                i=faces[:, 0],\n",
    "                j=faces[:, 1],\n",
    "                k=faces[:, 2],\n",
    "            ),\n",
    "        row=1, col=i+1\n",
    "    )\n",
    "fig.update_layout(height=400, width=800)\n",
    "fig.update_scenes(\n",
    "            xaxis_visible=False, yaxis_visible=False, zaxis_visible=False\n",
    "        )\n",
    "fig.show()"
   ]
  },
  {
   "cell_type": "markdown",
   "metadata": {},
   "source": [
    "## Wasserstein barycenters"
   ]
  },
  {
   "cell_type": "markdown",
   "metadata": {},
   "source": [
    "First, let's redefine our point clouds to distributions by just dividing them by their volume."
   ]
  },
  {
   "cell_type": "code",
   "execution_count": null,
   "metadata": {},
   "outputs": [],
   "source": [
    "# points clouds to distributions \n",
    "initial_shapes = initial_shapes / np.sum(initial_shapes, axis=(1, 2, 3), keepdims=True)"
   ]
  },
  {
   "cell_type": "markdown",
   "metadata": {},
   "source": [
    "Now, we would like to have intermediary shapes between these two. We are going to use an interpolation based on Wasserstein distance. First, let us define weights, that will be the contribution of each of the inital shapes to the final result.  "
   ]
  },
  {
   "cell_type": "code",
   "execution_count": null,
   "metadata": {},
   "outputs": [],
   "source": [
    "n_steps = 5\n",
    "t = np.linspace(0,1,n_steps)\n",
    "weights = np.array([[s,1-s] for s in t])\n",
    "print(\"Weights for the barycenters:\\n\", weights)"
   ]
  },
  {
   "cell_type": "markdown",
   "metadata": {},
   "source": [
    "Now let's compute our barycenters using `convolutional_barycenter_3d`. Then we rescale it by dividing it by its maximum value."
   ]
  },
  {
   "cell_type": "code",
   "execution_count": null,
   "metadata": {},
   "outputs": [],
   "source": [
    "barycenters = []\n",
    "\n",
    "for alpha in weights:\n",
    "    barycenter = convolutional_barycenter_3d(initial_shapes, alpha)\n",
    "    barycenter = barycenter/max(barycenter.flatten())\n",
    "    barycenters.append(barycenter)"
   ]
  },
  {
   "cell_type": "markdown",
   "metadata": {},
   "source": [
    "According to our studied paper, we define the indicative functions of the interior of the barycenters by extracting the level set corresponding to the half the maximum probability value. We reconstruct the surface of our point clouds and convert it to a mesh, so we can use plotly feature of lighting of the shape to explore it better. You can select any shape you want by modifying `shape_index` with a value between 0 and q."
   ]
  },
  {
   "cell_type": "code",
   "execution_count": null,
   "metadata": {},
   "outputs": [],
   "source": [
    "shape_index = 2\n",
    "cloud = barycenters[shape_index] > 0.5\n",
    "vertices, faces = point_cloud_to_mesh(cloud, space)\n",
    "plot_mesh(vertices, faces, show_axis=False)"
   ]
  },
  {
   "cell_type": "markdown",
   "metadata": {},
   "source": [
    "Note : this code can be used to mix more than 2 shapes !"
   ]
  }
 ],
 "metadata": {
  "kernelspec": {
   "display_name": "venv",
   "language": "python",
   "name": "python3"
  },
  "language_info": {
   "codemirror_mode": {
    "name": "ipython",
    "version": 3
   },
   "file_extension": ".py",
   "mimetype": "text/x-python",
   "name": "python",
   "nbconvert_exporter": "python",
   "pygments_lexer": "ipython3",
   "version": "3.10.13"
  }
 },
 "nbformat": 4,
 "nbformat_minor": 2
}
