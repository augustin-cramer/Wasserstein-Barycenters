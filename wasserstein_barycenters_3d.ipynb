{
 "cells": [
  {
   "cell_type": "code",
   "execution_count": null,
   "metadata": {},
   "outputs": [],
   "source": [
    "import numpy as np\n",
    "from src.wasserstein_barycenters_3d import convolutional_barycenter_3d\n",
    "from src.utils import point_cloud_to_mesh, plot_mesh"
   ]
  },
  {
   "cell_type": "code",
   "execution_count": null,
   "metadata": {},
   "outputs": [],
   "source": [
    "shape1 = np.load('data/numpy/duck.npy')\n",
    "shape2 = np.load('data/numpy/torus.npy')\n",
    "initial_shapes = np.concatenate((shape1[np.newaxis, :, :, :], shape2[np.newaxis, :, :, :]), axis=0)"
   ]
  },
  {
   "cell_type": "code",
   "execution_count": null,
   "metadata": {},
   "outputs": [],
   "source": [
    "N = initial_shapes.shape[1]\n",
    "t = np.linspace(0, 1, N)\n",
    "space = np.stack(np.meshgrid(t, t, t), axis=-1).reshape(N**3, -1)"
   ]
  },
  {
   "cell_type": "code",
   "execution_count": null,
   "metadata": {},
   "outputs": [],
   "source": [
    "n_steps = 5\n",
    "t = np.linspace(0,1,n_steps)\n",
    "weights = np.array([[s,1-s] for s in t])"
   ]
  },
  {
   "cell_type": "code",
   "execution_count": null,
   "metadata": {},
   "outputs": [],
   "source": [
    "sigma = N//25\n",
    "tol = 1e-4"
   ]
  },
  {
   "cell_type": "code",
   "execution_count": null,
   "metadata": {},
   "outputs": [],
   "source": [
    "# points clouds to distributions \n",
    "for i in range(len(initial_shapes)):\n",
    "    initial_shapes[i] = initial_shapes[i]/np.sum(initial_shapes[i])"
   ]
  },
  {
   "cell_type": "code",
   "execution_count": null,
   "metadata": {},
   "outputs": [],
   "source": [
    "barycenters = []\n",
    "\n",
    "for alpha in weights:\n",
    "    barycenter = convolutional_barycenter_3d(initial_shapes, alpha, sigma=sigma, tol=tol)\n",
    "    barycenter = barycenter/max(barycenter.flatten())\n",
    "    barycenters.append(barycenter)"
   ]
  },
  {
   "cell_type": "code",
   "execution_count": null,
   "metadata": {},
   "outputs": [],
   "source": [
    "cloud = barycenters[2] > 0.5\n",
    "vertices, faces = point_cloud_to_mesh(cloud, space)\n",
    "plot_mesh(vertices, faces, show_axis=False)"
   ]
  },
  {
   "cell_type": "code",
   "execution_count": null,
   "metadata": {},
   "outputs": [],
   "source": []
  }
 ],
 "metadata": {
  "kernelspec": {
   "display_name": "venv",
   "language": "python",
   "name": "python3"
  },
  "language_info": {
   "codemirror_mode": {
    "name": "ipython",
    "version": 3
   },
   "file_extension": ".py",
   "mimetype": "text/x-python",
   "name": "python",
   "nbconvert_exporter": "python",
   "pygments_lexer": "ipython3",
   "version": "3.10.13"
  }
 },
 "nbformat": 4,
 "nbformat_minor": 2
}
