{
 "cells": [
  {
   "cell_type": "code",
   "execution_count": 1,
   "metadata": {},
   "outputs": [],
   "source": [
    "import numpy as np\n",
    "from toolbox.load_data import read_off, read_npy\n",
    "from toolbox.rescale import rescale\n",
    "import plotly.graph_objects as go\n",
    "from plotly.subplots import make_subplots\n",
    "from mesh_utils import vectorized_is_point_inside_mesh"
   ]
  },
  {
   "cell_type": "code",
   "execution_count": 2,
   "metadata": {},
   "outputs": [],
   "source": [
    "N = 100\n",
    "t = np.linspace(0, 1, N)\n",
    "space = np.stack(np.meshgrid(t, t, t), axis=-1).reshape(N**3, -1)"
   ]
  },
  {
   "cell_type": "code",
   "execution_count": 3,
   "metadata": {},
   "outputs": [],
   "source": [
    "path_to_data = \"../../data/\"\n",
    "\n",
    "fignames = [\"duck\", \"torus\"]\n",
    "fig_data = []\n",
    "for figname in fignames:\n",
    "    try :\n",
    "        fig_data.append(read_npy(path_to_data, figname))\n",
    "    except FileNotFoundError:\n",
    "        arr_verts, arr_faces = read_off(path_to_data, figname)\n",
    "        arr_verts = rescale(arr_verts, 0.03, 0.97)\n",
    "        fig_data.append(vectorized_is_point_inside_mesh(space, arr_verts, arr_faces).reshape(N, N, N).astype(np.float32))"
   ]
  },
  {
   "cell_type": "code",
   "execution_count": null,
   "metadata": {},
   "outputs": [],
   "source": [
    "fig = make_subplots(rows=1, cols=len(fig_data), specs=[[{\"type\": \"scatter3d\"} for _ in fig_data]])\n",
    "for i, fig_arr in enumerate(fig_data):\n",
    "    points_inside = (fig_arr.reshape(N**3, -1) > 0.1).ravel()\n",
    "    x = space[points_inside][:, 0]\n",
    "    y = space[points_inside][:, 1]\n",
    "    z = space[points_inside][:, 2]\n",
    "    fig.add_trace(\n",
    "        go.Scatter3d(x=x, y=y, z=z,\n",
    "                                    mode='markers',\n",
    "                                    ),\n",
    "        row=1, col=i+1\n",
    "    )\n",
    "fig.show()"
   ]
  },
  {
   "cell_type": "code",
   "execution_count": 15,
   "metadata": {},
   "outputs": [],
   "source": [
    "q = 5\n",
    "t = np.linspace(0,1,q)\n",
    "W = np.array([[s,1-s] for s in t])"
   ]
  },
  {
   "cell_type": "code",
   "execution_count": 16,
   "metadata": {},
   "outputs": [],
   "source": [
    "from toolbox.blur_kernel import imgaussian\n",
    "from toolbox.apply_3d_func import apply_3d_func\n",
    "mu = N/25\n",
    "blur = lambda x: imgaussian(x, mu, mu*50)\n",
    "Kv = lambda x: apply_3d_func(blur, x)"
   ]
  },
  {
   "cell_type": "code",
   "execution_count": 17,
   "metadata": {},
   "outputs": [],
   "source": [
    "from tqdm import tqdm\n",
    "\n",
    "def convolutional_barycenter(mus, alphas, area_weights, kernel, kernel_transpose, entropy_limit):\n",
    "    n_iter = 1500\n",
    "    tol = 1e-3\n",
    "    v = np.ones(mus.shape)\n",
    "    alphas = alphas / sum(alphas)\n",
    "    if area_weights is None:\n",
    "        area_weights = np.ones(mus.shape[1])\n",
    "    if kernel_transpose is None:\n",
    "        kernel_transpose = kernel\n",
    "    barycenter = np.ones(mus.shape[1])\n",
    "    for i in range(n_iter):\n",
    "        old_barycenter = barycenter\n",
    "        w = mus / (kernel_transpose(v * area_weights))\n",
    "        d = v * kernel(w * area_weights)\n",
    "        d[d<1e-100] = 1e-100\n",
    "        barycenter = np.exp(np.sum(alphas.reshape(-1, 1) * np.log(d), axis=0))\n",
    "        #entropy = -np.sum(area_weights*(barycenter*np.log(barycenter)))\n",
    "        v = v*barycenter/d\n",
    "        change = np.sum(np.abs(old_barycenter-barycenter) * area_weights)\n",
    "        print(change)\n",
    "        if np.isnan(change) or (i > 2 and change < tol):\n",
    "            return barycenter\n",
    "    return barycenter"
   ]
  },
  {
   "cell_type": "code",
   "execution_count": null,
   "metadata": {},
   "outputs": [],
   "source": [
    "#from toolbox.convolutional_barycenter import convolutional_barycenter\n",
    "\n",
    "bar = []\n",
    "for w in tqdm(W):\n",
    "    w = w/sum(w)\n",
    "    entropy_limit = None\n",
    "    Hv = np.array([dist.flatten()/dist.sum() for dist in fig_data])\n",
    "    B = convolutional_barycenter(Hv, w, None, Kv, None, entropy_limit)\n",
    "    B = B.reshape(N, N, N)\n",
    "    B = B/max(B.flatten())\n",
    "    bar.append(B)"
   ]
  },
  {
   "cell_type": "code",
   "execution_count": null,
   "metadata": {},
   "outputs": [],
   "source": [
    "bary = bar[0]\n",
    "points_inside = (bary.reshape(N**3, -1) > 0.1).ravel()\n",
    "x = space[points_inside][:, 0]\n",
    "y = space[points_inside][:, 1]\n",
    "z = space[points_inside][:, 2]\n",
    "fig = go.Figure(data=[go.Scatter3d(x=x, y=y, z=z,\n",
    "                           mode='markers',\n",
    "                        )])\n",
    "fig.show()"
   ]
  },
  {
   "cell_type": "code",
   "execution_count": null,
   "metadata": {},
   "outputs": [],
   "source": [
    "fig = make_subplots(rows=q+2, cols=1, specs=[[{\"type\": \"scatter3d\"}] for _ in range(q+2)])\n",
    "for i in range(2, q+2):\n",
    "    try:\n",
    "        bary = bar[i-2]\n",
    "        points_inside = (bary.reshape(N**3, -1) > 0.1).ravel()\n",
    "        x = space[points_inside][:, 0]\n",
    "        y = space[points_inside][:, 1]\n",
    "        z = space[points_inside][:, 2]\n",
    "        fig.add_trace(\n",
    "            go.Scatter3d(x=x, y=y, z=z,\n",
    "                                        mode='markers',\n",
    "                                        ),\n",
    "            row=i, col=1\n",
    "        )\n",
    "    except:\n",
    "        pass\n",
    "for i, fig_arr in zip([q+2, 1], fig_data):\n",
    "    points_inside = (fig_arr.reshape(N**3, -1) > 0.1).ravel()\n",
    "    x = space[points_inside][:, 0]\n",
    "    y = space[points_inside][:, 1]\n",
    "    z = space[points_inside][:, 2]\n",
    "    fig.add_trace(\n",
    "        go.Scatter3d(x=x, y=y, z=z,\n",
    "                                    mode='markers',\n",
    "                                    ),\n",
    "        row=i, col=1\n",
    "    )\n",
    "fig.update_layout(height=2000, width=400)\n",
    "fig.show()"
   ]
  },
  {
   "cell_type": "code",
   "execution_count": null,
   "metadata": {},
   "outputs": [],
   "source": []
  },
  {
   "cell_type": "code",
   "execution_count": null,
   "metadata": {},
   "outputs": [],
   "source": []
  }
 ],
 "metadata": {
  "kernelspec": {
   "display_name": "venv",
   "language": "python",
   "name": "python3"
  },
  "language_info": {
   "codemirror_mode": {
    "name": "ipython",
    "version": 3
   },
   "file_extension": ".py",
   "mimetype": "text/x-python",
   "name": "python",
   "nbconvert_exporter": "python",
   "pygments_lexer": "ipython3",
   "version": "3.10.13"
  }
 },
 "nbformat": 4,
 "nbformat_minor": 2
}
