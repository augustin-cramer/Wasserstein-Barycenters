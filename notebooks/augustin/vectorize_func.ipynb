{
 "cells": [
  {
   "cell_type": "code",
   "execution_count": null,
   "metadata": {},
   "outputs": [],
   "source": [
    "import numpy as np"
   ]
  },
  {
   "cell_type": "code",
   "execution_count": null,
   "metadata": {},
   "outputs": [],
   "source": [
    "def ray_intersects_triangle(ray_origin, ray_direction, triangle_vertices):\n",
    "    # \n",
    "    v0, v1, v2 = triangle_vertices\n",
    "    e1 = v1 - v0\n",
    "    e2 = v2 - v0\n",
    "    h = np.cross(ray_direction, e2)\n",
    "    a = np.dot(e1, h)\n",
    "\n",
    "    if a > -1e-6 and a < 1e-6:\n",
    "        return False\n",
    "\n",
    "    f = 1.0 / a\n",
    "    s = ray_origin - v0\n",
    "    u = f * np.dot(s, h)\n",
    "\n",
    "    if u < 0.0 or u > 1.0:\n",
    "        return False\n",
    "\n",
    "    q = np.cross(s, e1)\n",
    "    v = f * np.dot(ray_direction, q)\n",
    "\n",
    "    if v < 0.0 or u + v > 1.0:\n",
    "        return False\n",
    "\n",
    "    t = f * np.dot(e2, q)\n",
    "\n",
    "    return t > 1e-6\n",
    "\n",
    "def is_point_inside_mesh(point, vertices, triangles):\n",
    "\n",
    "    # Check if the point is inside the mesh volume\n",
    "    ray_origin = point\n",
    "    ray_direction = np.array([1, 0, 0])  # Choose a ray direction (e.g., along the positive x-axis)\n",
    "\n",
    "    inside_count = 0\n",
    "\n",
    "    for triangle_indices in triangles:\n",
    "        triangle_vertices = vertices[triangle_indices]\n",
    "        if ray_intersects_triangle(ray_origin, ray_direction, triangle_vertices):\n",
    "            inside_count += 1\n",
    "\n",
    "    # If the number of intersections is odd, the point is inside the mesh volume\n",
    "    return inside_count % 2 == 1\n"
   ]
  },
  {
   "cell_type": "code",
   "execution_count": null,
   "metadata": {},
   "outputs": [],
   "source": [
    "def vectorized_ray_intersects_triangle(ray_origin, ray_direction, triangle_vertices):\n",
    "    "
   ]
  },
  {
   "cell_type": "code",
   "execution_count": null,
   "metadata": {},
   "outputs": [],
   "source": [
    "def vectorize_is_point_inside_mesh(points, vertices, triangles):\n",
    "    # Check if the point is inside the mesh volume\n",
    "    ray_origins = points\n",
    "    ray_direction = np.array([1, 0, 0])  # Choose a ray direction (e.g., along the positive x-axis)\n",
    "\n",
    "    inside_count = np.zeros(len(points), dtype=int)\n",
    "\n",
    "    for triangle_indices in triangles:\n",
    "        triangle_vertices = vertices[triangle_indices]\n",
    "        intersections = vectorized_ray_intersects_triangle(ray_origins, ray_direction, triangle_vertices)\n",
    "        inside_count += intersections\n",
    "\n",
    "    # If the number of intersections is odd, the point is inside the mesh volume\n",
    "    return inside_count % 2 == 1"
   ]
  }
 ],
 "metadata": {
  "language_info": {
   "name": "python"
  }
 },
 "nbformat": 4,
 "nbformat_minor": 2
}
